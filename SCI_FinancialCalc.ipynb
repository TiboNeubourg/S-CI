{
 "cells": [
  {
   "cell_type": "markdown",
   "id": "c8603846",
   "metadata": {},
   "source": [
    "# Opdracht 6 Sales & Customer Interaction\n",
    "\n",
    "In deze opdracht gaan we het hebben over CF, I, NPV en IRR. Wat zijn ze en hoe kunnen we ze berekenen? "
   ]
  },
  {
   "cell_type": "markdown",
   "id": "e20069de",
   "metadata": {},
   "source": [
    "* CF = Cash Flow, dit is het verschil tussen de inkomende en de uitgaande geldstromen in een bedrijf binnen een bepaalde periode. \n",
    "\n",
    "* I = Interest, dit is de rente die er is per periode. \n",
    "\n",
    "* IRR = Internal Rate of Return, dit is een percentage dat het netto rendement per tijdseenheid weergeeft van een investering. Dit is de opbrengstvoet waarbij de netto waarde van de investering 0 is (kosten en inkomsten) \n",
    "\n",
    "* NPV = Net Present Value, dit is een maatstaf die gebruikt wordt om te berekenen hoeveel winst een bepaald project geeft (winstgevendheid). Er wordt hier gekeken naar de verwachte cashflows en de kost van de investering. \n",
    "\n",
    "* PV = Present Value, dit is de waarde van geld op dit moment. \n",
    "\n",
    "* FV = Future Value, dit is de waarde van iets binnen een bepaalde tijd (op het einde)"
   ]
  },
  {
   "cell_type": "markdown",
   "id": "309116a4",
   "metadata": {},
   "source": [
    "## Starten met numpy financial\n",
    "In onderstaande cell zien we hoe we kunnen starten met numpy_financial. Eerst moesten we wel een !pip install numpy-financial doen."
   ]
  },
  {
   "cell_type": "code",
   "execution_count": 1,
   "id": "c44d4311",
   "metadata": {},
   "outputs": [
    {
     "data": {
      "text/plain": [
       "'1.0.0'"
      ]
     },
     "execution_count": 1,
     "metadata": {},
     "output_type": "execute_result"
    }
   ],
   "source": [
    "import numpy as np\n",
    "import numpy_financial as npf\n",
    "npf.__version__"
   ]
  },
  {
   "cell_type": "markdown",
   "id": "269b45aa",
   "metadata": {},
   "source": [
    "## CF en I\n",
    "Het meest voor de hand liggende voorbeeld is hier een lening. In deze oefening gaan we de rente per periode berekenen. Hiervoor gebruiken we de functie '.rate()'.\n",
    "\n",
    "\n",
    "* Er is een nieuw kantoor aangekocht en hiervoor is er een lening afgesloten van 150.000 euro. Deze gaan we afbetalen op 25 jaar, per maand maken we een budget van 2000 euro vrij. Wat is de rente van deze lening? "
   ]
  },
  {
   "cell_type": "code",
   "execution_count": 13,
   "id": "7c379dd4",
   "metadata": {},
   "outputs": [
    {
     "name": "stdout",
     "output_type": "stream",
     "text": [
      "De rente is:  1.306157299678913\n"
     ]
    }
   ],
   "source": [
    "loan = 150000\n",
    "period = 25*12\n",
    "payment = 2000\n",
    "\n",
    "rente = npf.rate(period, -payment, loan, 0)*100\n",
    "\n",
    "print('De rente is: ',rente)"
   ]
  },
  {
   "cell_type": "markdown",
   "id": "cdd74dde",
   "metadata": {},
   "source": [
    "## IRR\n",
    "Bij IRR praten we over investeringen en bedrijven. Vaak zal dit dus ook te maken hebben met investeringen. Eerst gaan we bepalen welk rendement we moeten hebben om break-even te gaan met dit project. Hiervoor gebruiken we de functie '.irr()'\n",
    "\n",
    "* Het bedrijf start een project op dat 10 jaar zal duren. Aangezien het zo lang zal duren gaan ze 3 keer investeren. Ze beginnen met 10.000 euro in het eerste jaar, 5.000 in het tweede en 3.500 in het derde jaar. Deze investeringen in het project brengen in de eerste 3 jaar erna 6000 euro, 7500 in het jaar 7 & 8 en 9000 in het jaar 9 & 10. Wat is de IRR? "
   ]
  },
  {
   "cell_type": "code",
   "execution_count": 64,
   "id": "ba1ce900",
   "metadata": {},
   "outputs": [
    {
     "name": "stdout",
     "output_type": "stream",
     "text": [
      "De Internal Rate of Return is: % 20.88\n"
     ]
    }
   ],
   "source": [
    "cashflow = [-10000, -5000, -3500, 6000, 6000, 6000, 7500, 7500, 9000, 9000]\n",
    "\n",
    "IRR = npf.irr(cashflow)\n",
    "IRR_afgerond = round(IRR*100,2)\n",
    "\n",
    "print('De Internal Rate of Return is: %', afgerond)\n"
   ]
  },
  {
   "cell_type": "markdown",
   "id": "9aa2a404",
   "metadata": {},
   "source": [
    "## NPV\n",
    "We kunnen hier verder bouwen op het voorbeeld van de IRR. Alleen hebben we hier ook de rate nodig waar het bedrijf winst maakt. In dit geval is dat 12%. We gebruiken hiervoor de functie '.npv()'"
   ]
  },
  {
   "cell_type": "code",
   "execution_count": 72,
   "id": "3da79914",
   "metadata": {},
   "outputs": [
    {
     "name": "stdout",
     "output_type": "stream",
     "text": [
      "De Net Present Value is: € 8306.68\n"
     ]
    }
   ],
   "source": [
    "rate = 0.12\n",
    "\n",
    "NPV = npf.npv(rate, cashflow)\n",
    "NPV_afgerond = round(NPV,2)\n",
    "\n",
    "print('De Net Present Value is: €', NPV_afgerond)\n"
   ]
  },
  {
   "cell_type": "markdown",
   "id": "bec6a498",
   "metadata": {},
   "source": [
    "## PV\n",
    "Hiervoor kunnen we een voorbeeld van de beurs gebruiken. We gebruiken hier de functie '.pv()'\n",
    "\n",
    "* Het rendement is jaarlijks 6% en over 10 jaar willen we 50.000 euro. Hoeveel euro moeten we op dit moment investeren? "
   ]
  },
  {
   "cell_type": "code",
   "execution_count": 74,
   "id": "dc5e8bfb",
   "metadata": {},
   "outputs": [
    {
     "name": "stdout",
     "output_type": "stream",
     "text": [
      "We moeten nu € 27919.74  investeren\n"
     ]
    }
   ],
   "source": [
    "rate = 0.06\n",
    "fv = 50000\n",
    "period = 10\n",
    "\n",
    "PV = npf.pv(rate, period, 0, -fv)\n",
    "PV_afgerond = round(PV,2)\n",
    "\n",
    "print('We moeten nu €', PV_afgerond , ' investeren')"
   ]
  },
  {
   "cell_type": "markdown",
   "id": "cad0b14d",
   "metadata": {},
   "source": [
    "## FV\n",
    "Als laatste moeten we de Future Value berekenen, Hier kunnen we kijken wat een investering op dit moment oplevert. we gebruiken hiervoor de functie '.fv()'. \n",
    "\n",
    "* we investeren vandaag 10.000 euro en voorzien maandelijks 300 euro. Hoeveel zullen we binnen 10 jaar hebben als we dit in een belegingsfonds steken met een rendement van 6% per jaar. "
   ]
  },
  {
   "cell_type": "code",
   "execution_count": 76,
   "id": "8fca143f",
   "metadata": {},
   "outputs": [
    {
     "name": "stdout",
     "output_type": "stream",
     "text": [
      "Op het einde van deze 10 jaar zouden we € 65359.34 hebben\n"
     ]
    }
   ],
   "source": [
    "rate = 0.06\n",
    "pv = 10000\n",
    "monthly = 300*12\n",
    "period = 10\n",
    "\n",
    "FV = npf.fv(rate, period, -monthly, -pv)\n",
    "FV_afgerond = round(FV, 2)\n",
    "\n",
    "print('Op het einde van deze 10 jaar zouden we €', FV_afgerond, 'hebben')"
   ]
  },
  {
   "cell_type": "code",
   "execution_count": null,
   "id": "fa24fcbf",
   "metadata": {},
   "outputs": [],
   "source": []
  }
 ],
 "metadata": {
  "kernelspec": {
   "display_name": "Python 3 (ipykernel)",
   "language": "python",
   "name": "python3"
  },
  "language_info": {
   "codemirror_mode": {
    "name": "ipython",
    "version": 3
   },
   "file_extension": ".py",
   "mimetype": "text/x-python",
   "name": "python",
   "nbconvert_exporter": "python",
   "pygments_lexer": "ipython3",
   "version": "3.9.13"
  }
 },
 "nbformat": 4,
 "nbformat_minor": 5
}
